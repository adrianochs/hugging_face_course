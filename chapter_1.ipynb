{
 "cells": [
  {
   "cell_type": "code",
   "execution_count": 2,
   "metadata": {},
   "outputs": [
    {
     "name": "stderr",
     "output_type": "stream",
     "text": [
      "/Users/adrianochs/mambaforge/envs/hugging_face/lib/python3.12/site-packages/tqdm/auto.py:21: TqdmWarning: IProgress not found. Please update jupyter and ipywidgets. See https://ipywidgets.readthedocs.io/en/stable/user_install.html\n",
      "  from .autonotebook import tqdm as notebook_tqdm\n"
     ]
    }
   ],
   "source": [
    "from transformers import pipeline\n",
    "import polars as pl"
   ]
  },
  {
   "cell_type": "code",
   "execution_count": 3,
   "metadata": {},
   "outputs": [
    {
     "name": "stderr",
     "output_type": "stream",
     "text": [
      "No model was supplied, defaulted to distilbert-base-uncased-finetuned-sst-2-english and revision af0f99b (https://huggingface.co/distilbert-base-uncased-finetuned-sst-2-english).\n",
      "Using a pipeline without specifying a model name and revision in production is not recommended.\n"
     ]
    },
    {
     "data": {
      "text/plain": [
       "[{'label': 'POSITIVE', 'score': 0.9598051905632019}]"
      ]
     },
     "execution_count": 3,
     "metadata": {},
     "output_type": "execute_result"
    }
   ],
   "source": [
    "classifier = pipeline(\"sentiment-analysis\") # , model=\"mrm8488/distilroberta-finetuned-financial-news-sentiment-analysis\"\n",
    "classifier(\"I've been waiting for a HuggingFace course my whole life.\")"
   ]
  },
  {
   "cell_type": "code",
   "execution_count": 4,
   "metadata": {},
   "outputs": [
    {
     "data": {
      "text/plain": [
       "[{'label': 'NEGATIVE', 'score': 0.9994264841079712},\n",
       " {'label': 'NEGATIVE', 'score': 0.607053816318512},\n",
       " {'label': 'NEGATIVE', 'score': 0.9975897073745728},\n",
       " {'label': 'NEGATIVE', 'score': 0.9923612475395203},\n",
       " {'label': 'NEGATIVE', 'score': 0.508060097694397},\n",
       " {'label': 'NEGATIVE', 'score': 0.9930084943771362},\n",
       " {'label': 'POSITIVE', 'score': 0.9953112006187439},\n",
       " {'label': 'NEGATIVE', 'score': 0.9828432202339172},\n",
       " {'label': 'NEGATIVE', 'score': 0.9956054091453552}]"
      ]
     },
     "execution_count": 4,
     "metadata": {},
     "output_type": "execute_result"
    }
   ],
   "source": [
    "df_fed = pl.read_csv(\"data/1_df_text.csv\") # 2_df_text_clean\n",
    "df_fed.head()\n"
   ]
  },
  {
   "cell_type": "code",
   "execution_count": null,
   "metadata": {},
   "outputs": [],
   "source": [
    "statement_column = df_fed.select(pl.col(\"statement\")).to_series().to_list()\n",
    "pos_neg_classification = classifier(statement_column[1:10])\n",
    "pos_neg_classification"
   ]
  },
  {
   "cell_type": "code",
   "execution_count": 7,
   "metadata": {},
   "outputs": [
    {
     "data": {
      "text/plain": [
       "'treasury cash balances at both commercial banks and federal reserve banks had been reduced to very low levels prior to the mid september tax date, and in the period september 5-16 the treasury had temporarily financed some of its cash needs through sales of special short-term certificates of indebtedness to the federal reserve. the volume of such certificates reached a 16-year high of $1.1 billion on september 10,1/ but the treasury was able to redeem all outstanding certificates by september 17 and subsequently to rebuild its cash balances to a substantial level.'"
      ]
     },
     "execution_count": 7,
     "metadata": {},
     "output_type": "execute_result"
    }
   ],
   "source": [
    "statement_column[8]"
   ]
  },
  {
   "cell_type": "code",
   "execution_count": 30,
   "metadata": {},
   "outputs": [
    {
     "name": "stderr",
     "output_type": "stream",
     "text": [
      "Failed to determine 'entailment' label id from the label2id mapping in the model config. Setting to -1. Define a descriptive label2id mapping in the model config to ensure correct outputs.\n"
     ]
    },
    {
     "data": {
      "text/plain": [
       "[{'sequence': ' average price as measure by the gnp deflator be estimate to have advance substantially',\n",
       "  'labels': ['unemployment', 'inflation', 'gdp', 'other'],\n",
       "  'scores': [0.5807117223739624,\n",
       "   0.2618597149848938,\n",
       "   0.08929827809333801,\n",
       "   0.06813033670186996]},\n",
       " {'sequence': ' staff projections suggest that real gnp would grow more slowly in the fourth quarter and that it might change little in the first half of 1970',\n",
       "  'labels': ['inflation', 'other', 'gdp', 'unemployment'],\n",
       "  'scores': [0.2750270962715149,\n",
       "   0.2721661329269409,\n",
       "   0.2506636381149292,\n",
       "   0.2021431177854538]},\n",
       " {'sequence': ' with pressure on resources expect to ease over that period some moderation in the rate of price advance be projected',\n",
       "  'labels': ['other', 'gdp', 'inflation', 'unemployment'],\n",
       "  'scores': [0.2721790373325348,\n",
       "   0.2700256407260895,\n",
       "   0.22974678874015808,\n",
       "   0.22804847359657288]},\n",
       " {'sequence': 'a number of monthly measure of economic_activity have weaken recently',\n",
       "  'labels': ['unemployment', 'inflation', 'other', 'gdp'],\n",
       "  'scores': [0.36391156911849976,\n",
       "   0.3526173233985901,\n",
       "   0.17228713631629944,\n",
       "   0.11118396371603012]},\n",
       " {'sequence': ' nonfarm employment be about unchanged in september and the unemployment rate rise sharply to 4',\n",
       "  'labels': ['other', 'gdp', 'unemployment', 'inflation'],\n",
       "  'scores': [0.2867150902748108,\n",
       "   0.2813369929790497,\n",
       "   0.22027194499969482,\n",
       "   0.21167603135108948]},\n",
       " {'sequence': '0 from 3',\n",
       "  'labels': ['other', 'gdp', 'inflation', 'unemployment'],\n",
       "  'scores': [0.2645805776119232,\n",
       "   0.2595507502555847,\n",
       "   0.2518596351146698,\n",
       "   0.2240089625120163]},\n",
       " {'sequence': '5 percent in august',\n",
       "  'labels': ['other', 'gdp', 'inflation', 'unemployment'],\n",
       "  'scores': [0.2783604860305786,\n",
       "   0.2754189372062683,\n",
       "   0.26799944043159485,\n",
       "   0.17822110652923584]},\n",
       " {'sequence': ' industrial_production edge down in august and tentative estimate suggest that it change little or decline slightly in september',\n",
       "  'labels': ['gdp', 'unemployment', 'other', 'inflation'],\n",
       "  'scores': [0.25341495871543884,\n",
       "   0.2531668245792389,\n",
       "   0.2518438696861267,\n",
       "   0.24157433211803436]},\n",
       " {'sequence': ' it appear from weekly data for most of september that retail sales in that month be about the same as in august and that after adjustment for price increase such sales remain below the level of a year earlier',\n",
       "  'labels': ['other', 'gdp', 'unemployment', 'inflation'],\n",
       "  'scores': [0.45333755016326904,\n",
       "   0.28237679600715637,\n",
       "   0.1976228952407837,\n",
       "   0.06666271388530731]}]"
      ]
     },
     "execution_count": 30,
     "metadata": {},
     "output_type": "execute_result"
    }
   ],
   "source": [
    "zero_shot_classifier = pipeline(\"zero-shot-classification\", model=\"mrm8488/distilroberta-finetuned-financial-news-sentiment-analysis\")\n",
    "econ_classification = zero_shot_classifier(\n",
    "    statement_column[1:10],\n",
    "    candidate_labels=[\"gdp\", \"unemployment\", \"inflation\", \"other\"],\n",
    ")\n",
    "econ_classification"
   ]
  },
  {
   "cell_type": "code",
   "execution_count": null,
   "metadata": {},
   "outputs": [],
   "source": []
  }
 ],
 "metadata": {
  "kernelspec": {
   "display_name": "hugging_face",
   "language": "python",
   "name": "python3"
  },
  "language_info": {
   "codemirror_mode": {
    "name": "ipython",
    "version": 3
   },
   "file_extension": ".py",
   "mimetype": "text/x-python",
   "name": "python",
   "nbconvert_exporter": "python",
   "pygments_lexer": "ipython3",
   "version": "3.12.1"
  }
 },
 "nbformat": 4,
 "nbformat_minor": 2
}
